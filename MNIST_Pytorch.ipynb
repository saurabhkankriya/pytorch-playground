{
  "nbformat": 4,
  "nbformat_minor": 0,
  "metadata": {
    "colab": {
      "name": "MNIST Pytorch.ipynb",
      "provenance": [],
      "collapsed_sections": [],
      "authorship_tag": "ABX9TyNhx0Cl5yQop9dHqBRQw3zT",
      "include_colab_link": true
    },
    "kernelspec": {
      "name": "python3",
      "display_name": "Python 3"
    },
    "language_info": {
      "name": "python"
    },
    "accelerator": "GPU"
  },
  "cells": [
    {
      "cell_type": "markdown",
      "metadata": {
        "id": "view-in-github",
        "colab_type": "text"
      },
      "source": [
        "<a href=\"https://colab.research.google.com/github/saurabhsjain/pytorch-playground/blob/main/MNIST_Pytorch.ipynb\" target=\"_parent\"><img src=\"https://colab.research.google.com/assets/colab-badge.svg\" alt=\"Open In Colab\"/></a>"
      ]
    },
    {
      "cell_type": "markdown",
      "metadata": {
        "id": "6slDuuRihFmV"
      },
      "source": [
        "**Problem Statement**: Predicts if an input image belongs to one of the following classes: T-shirt/top, Trouser, Pullover, Dress, Coat, Sandal, Shirt, Sneaker, Bag, or Ankle boot."
      ]
    },
    {
      "cell_type": "markdown",
      "metadata": {
        "id": "_WLSlC7Jygts"
      },
      "source": [
        "from [Pytorch Quickstart](https://pytorch.org/tutorials/beginner/basics/quickstart_tutorial.html)"
      ]
    },
    {
      "cell_type": "code",
      "metadata": {
        "id": "S61H0WXygpSM"
      },
      "source": [
        "import torch\n",
        "from torch import nn\n",
        "from torch.utils.data import DataLoader\n",
        "from torchvision import datasets\n",
        "from torchvision.transforms import ToTensor, Lambda, Compose\n",
        "import matplotlib.pyplot as plt"
      ],
      "execution_count": 17,
      "outputs": []
    },
    {
      "cell_type": "code",
      "metadata": {
        "id": "jHA7TM4HjMWB"
      },
      "source": [
        "# Download training data from open datasets.\n",
        "training_data = datasets.FashionMNIST(\n",
        "    root=\"data\",\n",
        "    train=True,\n",
        "    download=True,\n",
        "    transform=ToTensor(),\n",
        ")\n",
        "\n",
        "# Download test data from open datasets.\n",
        "test_data = datasets.FashionMNIST(\n",
        "    root=\"data\",\n",
        "    train=False,\n",
        "    download=True,\n",
        "    transform=ToTensor(),\n",
        ")"
      ],
      "execution_count": 18,
      "outputs": []
    },
    {
      "cell_type": "code",
      "metadata": {
        "colab": {
          "base_uri": "https://localhost:8080/"
        },
        "id": "KA6EkVNfkFmq",
        "outputId": "40c63581-1c61-49be-b157-66f5fe1a0b24"
      },
      "source": [
        "batch_size = 64\n",
        "\n",
        "# create the dataloaders\n",
        "train_dataloader = DataLoader(training_data, batch_size=batch_size)\n",
        "test_dataloader = DataLoader(test_data, batch_size=batch_size)\n",
        "\n",
        "for X, y in train_dataloader:\n",
        "  print(\"Shape of X [N, C, H, W]: \", X.shape)\n",
        "  print(\"Shape of y: \", y.shape, y.dtype)\n",
        "  break"
      ],
      "execution_count": 19,
      "outputs": [
        {
          "output_type": "stream",
          "text": [
            "Shape of X [N, C, H, W]:  torch.Size([64, 1, 28, 28])\n",
            "Shape of y:  torch.Size([64]) torch.int64\n"
          ],
          "name": "stdout"
        }
      ]
    },
    {
      "cell_type": "code",
      "metadata": {
        "colab": {
          "base_uri": "https://localhost:8080/"
        },
        "id": "XOrAESWsk8LF",
        "outputId": "fbe8cdd9-eeb7-4183-d061-2a3924be9d11"
      },
      "source": [
        "# Get cpu or gpu device for training.\n",
        "device = \"cuda\" if torch.cuda.is_available() else \"cpu\"\n",
        "print(\"Using {} device\".format(device))"
      ],
      "execution_count": 20,
      "outputs": [
        {
          "output_type": "stream",
          "text": [
            "Using cuda device\n"
          ],
          "name": "stdout"
        }
      ]
    },
    {
      "cell_type": "code",
      "metadata": {
        "colab": {
          "base_uri": "https://localhost:8080/"
        },
        "id": "euSYDhpJlP4I",
        "outputId": "06b03add-98cc-4b88-eea6-eb64b970d51d"
      },
      "source": [
        "# Define Model\n",
        "class NeuralNetwork(nn.Module):\n",
        "  def __init__(self):\n",
        "    super(NeuralNetwork, self).__init__()\n",
        "    self.flatten = nn.Flatten()\n",
        "    self.linear_relu_stack = nn.Sequential( \n",
        "                       nn.Linear(28*28, 512),\n",
        "                       nn.ReLU(),\n",
        "                       nn.Linear(512,512),\n",
        "                       nn.ReLU(),\n",
        "                       nn.Linear(512,10),\n",
        "                       nn.ReLU()\n",
        "                      )\n",
        "\n",
        "  def forward(self, x):\n",
        "     x = self.flatten(x)\n",
        "     logits = self.linear_relu_stack(x)\n",
        "     return logits\n",
        "\n",
        "model = NeuralNetwork().to(device)\n",
        "print(model)"
      ],
      "execution_count": 21,
      "outputs": [
        {
          "output_type": "stream",
          "text": [
            "NeuralNetwork(\n",
            "  (flatten): Flatten(start_dim=1, end_dim=-1)\n",
            "  (linear_relu_stack): Sequential(\n",
            "    (0): Linear(in_features=784, out_features=512, bias=True)\n",
            "    (1): ReLU()\n",
            "    (2): Linear(in_features=512, out_features=512, bias=True)\n",
            "    (3): ReLU()\n",
            "    (4): Linear(in_features=512, out_features=10, bias=True)\n",
            "    (5): ReLU()\n",
            "  )\n",
            ")\n"
          ],
          "name": "stdout"
        }
      ]
    },
    {
      "cell_type": "code",
      "metadata": {
        "id": "olc30ajnoLGd"
      },
      "source": [
        "# Defining loss function and optimizer\n",
        "loss_fn = nn.CrossEntropyLoss()\n",
        "optimizer = torch.optim.SGD(model.parameters(), lr = 1e-3)"
      ],
      "execution_count": 22,
      "outputs": []
    },
    {
      "cell_type": "code",
      "metadata": {
        "id": "jW7d8EzKogUV"
      },
      "source": [
        "def train(dataloader, model, loss_fn, optimizer):\n",
        "  size = len(dataloader.dataset)\n",
        "  for batch, (X,y) in enumerate(dataloader):\n",
        "    X, y = X.to(device), y.to(device)\n",
        "\n",
        "    # Compute the prediction error\n",
        "    pred = model(X)\n",
        "    loss = loss_fn(pred, y)\n",
        "\n",
        "    # Backpropagation\n",
        "    optimizer.zero_grad()\n",
        "    loss.backward()\n",
        "    optimizer.step()\n",
        "     \n",
        "    if batch % 100 == 0:\n",
        "      loss, current = loss.item(), batch * len(X)\n",
        "      print(f\"loss: {loss:>7f}  [{current:>5d}/{size:>5d}]\")\n",
        "\n",
        "\n"
      ],
      "execution_count": 23,
      "outputs": []
    },
    {
      "cell_type": "code",
      "metadata": {
        "id": "BZxrAxC1tT2F"
      },
      "source": [
        "def test(dataloader, model):\n",
        "    size = len(dataloader.dataset)\n",
        "    model.eval()\n",
        "    test_loss, correct = 0, 0\n",
        "    with torch.no_grad():\n",
        "        for X, y in dataloader:\n",
        "            X, y = X.to(device), y.to(device)\n",
        "            pred = model(X)\n",
        "            test_loss += loss_fn(pred, y).item()\n",
        "            correct += (pred.argmax(1) == y).type(torch.float).sum().item()\n",
        "    test_loss /= size\n",
        "    correct /= size\n",
        "    print(f\"Test Error: \\n Accuracy: {(100*correct):>0.1f}%, Avg loss: {test_loss:>8f} \\n\")"
      ],
      "execution_count": 24,
      "outputs": []
    },
    {
      "cell_type": "code",
      "metadata": {
        "colab": {
          "base_uri": "https://localhost:8080/"
        },
        "id": "SlDDLU3Ntc16",
        "outputId": "d20aa542-df54-4392-9cf2-151e7b3eae0f"
      },
      "source": [
        "epochs = 5\n",
        "for t in range(epochs):\n",
        "    print(f\"Epoch {t+1}\\n-------------------------------\")\n",
        "    train(train_dataloader, model, loss_fn, optimizer)\n",
        "    test(test_dataloader, model)\n",
        "print(\"Done!\")"
      ],
      "execution_count": 25,
      "outputs": [
        {
          "output_type": "stream",
          "text": [
            "Epoch 1\n",
            "-------------------------------\n",
            "loss: 2.301332  [    0/60000]\n",
            "loss: 2.293794  [ 6400/60000]\n",
            "loss: 2.282106  [12800/60000]\n",
            "loss: 2.281837  [19200/60000]\n",
            "loss: 2.272768  [25600/60000]\n",
            "loss: 2.260461  [32000/60000]\n",
            "loss: 2.273645  [38400/60000]\n",
            "loss: 2.256703  [44800/60000]\n",
            "loss: 2.249985  [51200/60000]\n",
            "loss: 2.231487  [57600/60000]\n",
            "Test Error: \n",
            " Accuracy: 39.2%, Avg loss: 0.034957 \n",
            "\n",
            "Epoch 2\n",
            "-------------------------------\n",
            "loss: 2.241158  [    0/60000]\n",
            "loss: 2.228525  [ 6400/60000]\n",
            "loss: 2.184902  [12800/60000]\n",
            "loss: 2.194111  [19200/60000]\n",
            "loss: 2.182945  [25600/60000]\n",
            "loss: 2.169480  [32000/60000]\n",
            "loss: 2.207660  [38400/60000]\n",
            "loss: 2.168115  [44800/60000]\n",
            "loss: 2.161478  [51200/60000]\n",
            "loss: 2.129040  [57600/60000]\n",
            "Test Error: \n",
            " Accuracy: 41.9%, Avg loss: 0.033177 \n",
            "\n",
            "Epoch 3\n",
            "-------------------------------\n",
            "loss: 2.154027  [    0/60000]\n",
            "loss: 2.120625  [ 6400/60000]\n",
            "loss: 2.024191  [12800/60000]\n",
            "loss: 2.049944  [19200/60000]\n",
            "loss: 2.030199  [25600/60000]\n",
            "loss: 2.022640  [32000/60000]\n",
            "loss: 2.094226  [38400/60000]\n",
            "loss: 2.024554  [44800/60000]\n",
            "loss: 2.031194  [51200/60000]\n",
            "loss: 1.984068  [57600/60000]\n",
            "Test Error: \n",
            " Accuracy: 42.5%, Avg loss: 0.030552 \n",
            "\n",
            "Epoch 4\n",
            "-------------------------------\n",
            "loss: 2.024201  [    0/60000]\n",
            "loss: 1.959460  [ 6400/60000]\n",
            "loss: 1.799819  [12800/60000]\n",
            "loss: 1.859866  [19200/60000]\n",
            "loss: 1.842367  [25600/60000]\n",
            "loss: 1.853503  [32000/60000]\n",
            "loss: 1.971567  [38400/60000]\n",
            "loss: 1.883181  [44800/60000]\n",
            "loss: 1.907548  [51200/60000]\n",
            "loss: 1.859537  [57600/60000]\n",
            "Test Error: \n",
            " Accuracy: 46.3%, Avg loss: 0.028189 \n",
            "\n",
            "Epoch 5\n",
            "-------------------------------\n",
            "loss: 1.901494  [    0/60000]\n",
            "loss: 1.814096  [ 6400/60000]\n",
            "loss: 1.612563  [12800/60000]\n",
            "loss: 1.711899  [19200/60000]\n",
            "loss: 1.702294  [25600/60000]\n",
            "loss: 1.735215  [32000/60000]\n",
            "loss: 1.879864  [38400/60000]\n",
            "loss: 1.791717  [44800/60000]\n",
            "loss: 1.813718  [51200/60000]\n",
            "loss: 1.778374  [57600/60000]\n",
            "Test Error: \n",
            " Accuracy: 50.0%, Avg loss: 0.026549 \n",
            "\n",
            "Done!\n"
          ],
          "name": "stdout"
        }
      ]
    },
    {
      "cell_type": "code",
      "metadata": {
        "colab": {
          "base_uri": "https://localhost:8080/"
        },
        "id": "OXupAakItrAi",
        "outputId": "4b340851-8336-4187-8d5d-3eae4c440821"
      },
      "source": [
        "torch.save(model.state_dict(), \"model.pth\")\n",
        "print(\"Saved PyTorch Model State to model.pth\")"
      ],
      "execution_count": 26,
      "outputs": [
        {
          "output_type": "stream",
          "text": [
            "Saved PyTorch Model State to model.pth\n"
          ],
          "name": "stdout"
        }
      ]
    },
    {
      "cell_type": "code",
      "metadata": {
        "colab": {
          "base_uri": "https://localhost:8080/"
        },
        "id": "OoZilJPOuTOR",
        "outputId": "3aa8e940-c7fc-4c5e-bca9-f1a48c835514"
      },
      "source": [
        "classes = [\n",
        "    \"T-shirt/top\",\n",
        "    \"Trouser\",\n",
        "    \"Pullover\",\n",
        "    \"Dress\",\n",
        "    \"Coat\",\n",
        "    \"Sandal\",\n",
        "    \"Shirt\",\n",
        "    \"Sneaker\",\n",
        "    \"Bag\",\n",
        "    \"Ankle boot\",\n",
        "]\n",
        "\n",
        "model.eval()\n",
        "x, y = test_data[0][0], test_data[0][1]\n",
        "with torch.no_grad():\n",
        "    pred = model(x.to(device))\n",
        "    predicted, actual = classes[pred[0].argmax(0)], classes[y]\n",
        "    print(f'Predicted: \"{predicted}\", Actual: \"{actual}\"')"
      ],
      "execution_count": 30,
      "outputs": [
        {
          "output_type": "stream",
          "text": [
            "Predicted: \"Ankle boot\", Actual: \"Ankle boot\"\n"
          ],
          "name": "stdout"
        }
      ]
    }
  ]
}